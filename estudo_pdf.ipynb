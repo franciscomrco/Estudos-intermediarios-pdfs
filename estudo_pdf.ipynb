{
 "cells": [
  {
   "cell_type": "markdown",
   "metadata": {},
   "source": [
    "## ESTUDOS INTERMEDIÁRIOS DE PDFs\n",
    "*Por: Francisco Américo*"
   ]
  },
  {
   "cell_type": "markdown",
   "metadata": {},
   "source": [
    "## Introdução\n",
    "\n",
    "O presente estudo tem o intuito de apresentar alguns scripts em python para realizar a manipulação de arquivos PDFs. Como muitas empresas bloqueiam a instalação de aplicativos com essa finalidade, e também bloqueiam os sites que realizam tais tarefas devido as normas de segurança, como exemplo, a algum tempo tive a necessidade de encontrar um modo alternativo para que se possa: *i. mesclar dois ou mais arquivos pdfs, ii. separar as páginas de arquivos pdfs, iii. Transformar as páginas de arquivos pdfs em arquivos jpegs*."
   ]
  },
  {
   "cell_type": "markdown",
   "metadata": {},
   "source": [
    "### 1. Mesclar dois arquivos PDFs\n",
    "\n",
    "1. Renomear os dois arquivos pdfs conforme a ordem que se deseija mesclar, sendo 1.pdf (primeira página) e 2.pdf (segunda página).\n",
    "\n",
    "*Esse é o que mais utilizo, uma vez compilado, basta clicar no executável e um único arquivo será criado com as duas páginas.*"
   ]
  },
  {
   "cell_type": "code",
   "execution_count": null,
   "metadata": {},
   "outputs": [],
   "source": [
    "# Merge_1-2.py\n",
    "\n",
    "from PyPDF2 import PdfFileMerger\n",
    "\n",
    "pdfs = ['1.pdf', '2.pdf']\n",
    "\n",
    "merger = PdfFileMerger()\n",
    "\n",
    "for pdf in pdfs:\n",
    "    merger.append(pdf)\n",
    "\n",
    "merger.write('result.pdf')"
   ]
  },
  {
   "cell_type": "markdown",
   "metadata": {},
   "source": [
    "<div>\n",
    "<img src=\"Apresentação1.jpg\" width=\"500\"/>\n",
    "</div>"
   ]
  },
  {
   "cell_type": "code",
   "execution_count": null,
   "metadata": {},
   "outputs": [],
   "source": []
  },
  {
   "cell_type": "code",
   "execution_count": null,
   "metadata": {},
   "outputs": [],
   "source": []
  },
  {
   "cell_type": "markdown",
   "metadata": {},
   "source": [
    "### 2. Mesclar mais arquivos PDFs\n",
    "\n",
    "1. Renomear os dois arquivos pdfs conforme a ordem que se queira mesclar, sendo 1.pdf (primeira página), 2.pdf (segunda página), 3.pdf (terceira página) etc.\n",
    "\n",
    "2. Ao executar o script será pedido a quantidade de arquivos para mesclar.\n",
    "\n",
    "*Raramente tive a necessidade de mesclar mais de dois arquivos em um único PDF, mas quando necessário este script é útil.*"
   ]
  },
  {
   "cell_type": "code",
   "execution_count": null,
   "metadata": {},
   "outputs": [],
   "source": [
    "# Merge_Dynamic.py\n",
    "\n",
    "from PyPDF2 import PdfFileMerger\n",
    "\n",
    "while True:\n",
    "    instr = input('Digite quantidade documentos: ')\n",
    "    \n",
    "    if instr == 'q':\n",
    "        quit()\n",
    "    \n",
    "    pdfs = []\n",
    "    qpdfs = 1 + int(instr)\n",
    "    \n",
    "    for i in range(1, qpdfs):\n",
    "        pdfs.append(str(i) + '.pdf')\n",
    "    \n",
    "    merger = PdfFileMerger()\n",
    "\n",
    "    for pdf in pdfs:\n",
    "        merger.append(pdf)\n",
    "\n",
    "    merger.write('result.pdf')"
   ]
  },
  {
   "cell_type": "markdown",
   "metadata": {},
   "source": [
    "<div>\n",
    "<img src=\"Apresentação2.jpg\" width=\"500\"/>\n",
    "</div>"
   ]
  },
  {
   "cell_type": "code",
   "execution_count": null,
   "metadata": {},
   "outputs": [],
   "source": []
  },
  {
   "cell_type": "code",
   "execution_count": null,
   "metadata": {},
   "outputs": [],
   "source": []
  },
  {
   "cell_type": "markdown",
   "metadata": {},
   "source": [
    "### 3. Separar as páginas de arquivos PDFs em arquivos individuais\n",
    "\n",
    "1. Renomear o arquivo que se deseja separar as páginas para 'source.pdf'.\n",
    "\n",
    "\n",
    "*Este script encontrei em algum website a muito tempo (obrigado ao desenvolvedor), é muito útil poder separar as páginas de arquivos PDFs, e conseguir manter a sequencia delas nos arquivos individuais*."
   ]
  },
  {
   "cell_type": "code",
   "execution_count": null,
   "metadata": {},
   "outputs": [],
   "source": [
    "# A - source.py\n",
    "\n",
    "from PyPDF2 import PdfFileWriter, PdfFileReader\n",
    "\n",
    "inputpdf = PdfFileReader(open(\"source.pdf\", \"rb\"))\n",
    "for i in range(inputpdf.numPages):\n",
    "    output = PdfFileWriter()\n",
    "    output.addPage(inputpdf.getPage(i))\n",
    "    with open(\"%s.pdf\" % i, \"wb\") as outputStream:\n",
    "        output.write(outputStream)"
   ]
  },
  {
   "cell_type": "markdown",
   "metadata": {},
   "source": [
    "<div>\n",
    "<img src=\"Apresentação3.jpg\" width=\"500\"/>\n",
    "</div>"
   ]
  },
  {
   "cell_type": "code",
   "execution_count": null,
   "metadata": {},
   "outputs": [],
   "source": []
  },
  {
   "cell_type": "code",
   "execution_count": null,
   "metadata": {},
   "outputs": [],
   "source": []
  },
  {
   "cell_type": "markdown",
   "metadata": {},
   "source": [
    "### 4. Converter um arquivo PDF em JPEG\n",
    "\n",
    "1. Colocar o arquivo PDF em uma pasta especifica que deve ser configurada no script, como exemplo, \"C:\\PDF_pasta\".\n",
    "\n",
    "\n",
    "*Este script também encontrei a algum tempo em um website (obrigado ao desenvolvedor), pois é muito útil*."
   ]
  },
  {
   "cell_type": "code",
   "execution_count": null,
   "metadata": {},
   "outputs": [],
   "source": [
    "# Pdf-to-Jpeg.py\n",
    "\n",
    "import os, subprocess\n",
    "\n",
    "pdf_dir = r\"C:\\PDF_pasta\"\n",
    "os.chdir(pdf_dir)\n",
    "\n",
    "pdftoppm_path = r\"C:\\Program Files (x86)\\poppler-0.68.0\\bin\\pdftoppm.exe\"\n",
    "\n",
    "for pdf_file in os.listdir(pdf_dir):\n",
    "\n",
    "    if pdf_file.endswith(\".pdf\"):\n",
    "\n",
    "        subprocess.Popen('\"%s\" -jpeg %s out' % (pdftoppm_path, pdf_file))"
   ]
  },
  {
   "cell_type": "markdown",
   "metadata": {},
   "source": [
    "<div>\n",
    "<img src=\"Apresentação4.jpg\" width=\"500\"/>\n",
    "</div>"
   ]
  },
  {
   "cell_type": "code",
   "execution_count": null,
   "metadata": {},
   "outputs": [],
   "source": []
  },
  {
   "cell_type": "code",
   "execution_count": null,
   "metadata": {},
   "outputs": [],
   "source": []
  },
  {
   "cell_type": "markdown",
   "metadata": {},
   "source": [
    "## Conclusão\n",
    "\n",
    "Em suma estes são os scripts para manipulação de PDFs que mais utilizo no dia a dia, e é claro em sua versão compilada, pois o trabalho é facilitado quando é necessário apenas clicar no executável ao invés de acessar o prompt de comando, entrar em algum ambiente específico e executar o script.\n",
    "\n",
    "Obs. ‘auto-py-to-exe’ funciona bem para compilar esses scripts."
   ]
  }
 ],
 "metadata": {
  "kernelspec": {
   "display_name": "Python 3",
   "language": "python",
   "name": "python3"
  },
  "language_info": {
   "codemirror_mode": {
    "name": "ipython",
    "version": 3
   },
   "file_extension": ".py",
   "mimetype": "text/x-python",
   "name": "python",
   "nbconvert_exporter": "python",
   "pygments_lexer": "ipython3",
   "version": "3.5.6"
  }
 },
 "nbformat": 4,
 "nbformat_minor": 2
}
